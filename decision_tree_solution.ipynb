{
 "cells": [
  {
   "cell_type": "markdown",
   "id": "49f369b3-4962-4f6a-91de-5498bb632eac",
   "metadata": {},
   "source": [
    "# Theoretical questions"
   ]
  },
  {
   "cell_type": "markdown",
   "id": "3984c2cb-6a81-405d-b2d5-017d96c366af",
   "metadata": {},
   "source": [
    "### 1.What is a Decision Tree, and how does it work\t\n",
    "#### A Decision Tree is a supervised machine learning algorithm used for both classification and regression tasks. It mimics human decision-making by splitting the dataset into branches based on feature values, leading to a decision at the leaf nodes.\n",
    "\n",
    "* Key Concepts\n",
    "1. Root Node: The starting point that represents the entire dataset.\n",
    "\n",
    "2. Decision Nodes: Points where the dataset is split based on a condition.\n",
    "\n",
    "3. Leaf Nodes: Terminal nodes that give the final output (class label or predicted value).\n",
    "\n",
    "4. Branches: The outcomes of a decision, leading to new nodes.\n",
    "\n",
    "##### How Does a Decision Tree Work?\n",
    "Select the Best Feature to Split On:\n",
    "\n",
    "Use a metric like Gini Impurity, Entropy (Information Gain), or Mean Squared Error (for regression).\n",
    "\n",
    "Choose the feature that results in the best split (i.e., maximum information gain or lowest impurity).\n",
    "\n",
    "Split the Dataset:\n",
    "\n",
    "Partition the data into subsets based on the chosen feature and condition.\n",
    "\n",
    "Repeat Recursively:\n",
    "\n",
    "Apply the same logic to each subset, building subtrees until:\n",
    "\n",
    "All samples in a node belong to the same class.\n",
    "\n",
    "A maximum tree depth is reached.\n",
    "\n",
    "There's no improvement from further splitting.\n",
    "\n",
    "Assign Leaf Values:\n",
    "\n",
    "For classification: Assign the majority class.\n",
    "\n",
    "For regression: Assign the mean of the target values.\n",
    "\n"
   ]
  },
  {
   "cell_type": "markdown",
   "id": "28c08992-b7ba-442b-9dd0-25c12ac5c168",
   "metadata": {},
   "source": [
    "### 2. What are impurity measures in Decision Trees\t\n",
    "Impurity measures are metrics used to evaluate how mixed the classes are at a given node in a classification decision tree. The goal of a decision tree is to split data such that each group (node) is as \"pure\" as possible—i.e., contains mostly samples from a single class.\n",
    "\n"
   ]
  },
  {
   "cell_type": "markdown",
   "id": "69b6db40-bf67-43c7-a957-263eecbe70ab",
   "metadata": {},
   "source": [
    "### 3.What is the mathematical formula for Gini Impurity\t\n",
    " Formula and its component is given below:-\n",
    "\n",
    " | **Component**          | **Description**                                                                                           |\n",
    "| ---------------------- | --------------------------------------------------------------------------------------------------------- |\n",
    "| $C$                    | Total number of classes                                                                                   |\n",
    "| $p_i$                  | Proportion of class $i$ in the node (i.e., $p_i = \\frac{\\text{count of class } i}{\\text{total samples}}$) |\n",
    "| $\\sum_{i=1}^{C} p_i^2$ | Sum of squares of class probabilities                                                                     |\n",
    "| **Gini Impurity**      | $\\boxed{\\text{Gini}(t) = 1 - \\sum_{i=1}^{C} p_i^2}$                                                       |\n",
    "\n"
   ]
  },
  {
   "cell_type": "markdown",
   "id": "13a3557b-eea6-4b2c-9b92-8ec2952adb7b",
   "metadata": {},
   "source": [
    "### 4.What is the mathematical formula for Entropy\t\n",
    "formula and its componenet is given below\n",
    "\n",
    "| **Component**     | **Description**                                                                             |\n",
    "| ----------------- | ------------------------------------------------------------------------------------------- |\n",
    "| $C$               | Total number of classes                                                                     |\n",
    "| $p_i$             | Proportion of samples in class $i$: $\\frac{\\text{count of class } i}{\\text{total samples}}$ |\n",
    "| $\\log_2(p_i)$     | Log base 2 of the class proportion                                                          |\n",
    "| $p_i \\log_2(p_i)$ | Weighted information of class $i$                                                           |\n",
    "| **Entropy**       | $\\boxed{\\text{Entropy}(t) = -\\sum_{i=1}^{C} p_i \\log_2(p_i)}$                               |\n"
   ]
  },
  {
   "cell_type": "markdown",
   "id": "f9017a2d-f75f-4682-b016-db627bca9ce4",
   "metadata": {},
   "source": [
    "### 5.What is Information Gain, and how is it used in Decision Trees\t\n",
    "Information Gain (IG) is a metric used to select the best feature for splitting a node in a Decision Tree (especially in the ID3 algorithm).\n",
    "It measures the reduction in entropy (uncertainty or impurity) after the dataset is split on an attribute.\n",
    "\n",
    "#### How It Works in Decision Trees\n",
    "Calculate Entropy of the parent node.\n",
    "\n",
    "Split the data on a feature.\n",
    "\n",
    "Calculate Entropy of each child node.\n",
    "\n",
    "Compute the weighted average entropy of the children.\n",
    "\n",
    "Subtract this from the parent’s entropy to get Information Gain.\n",
    "\n",
    "Choose the feature with the highest Information Gain to split on.\n",
    "\n",
    "\n"
   ]
  },
  {
   "cell_type": "markdown",
   "id": "9c66aa07-2283-4360-b23c-18b5139f3b46",
   "metadata": {},
   "source": [
    "### 6.What is the difference between Gini Impurity and Entropy\t\n",
    "\n",
    "| **Aspect**                 | **Gini Impurity**                                                   | **Entropy (Information Gain)**                                         |\n",
    "| -------------------------- | ------------------------------------------------------------------- | ---------------------------------------------------------------------- |\n",
    "| **Definition**             | Measures impurity based on probability of misclassification         | Measures impurity using information theory (uncertainty)               |\n",
    "| **Formula**                | $\\text{Gini} = 1 - \\sum p_i^2$                                      | $\\text{Entropy} = -\\sum p_i \\log_2(p_i)$                               |\n",
    "| **Range**                  | \\[0, 0.5] for binary classification                                 | \\[0, 1] for binary classification                                      |\n",
    "| **Best Value (Pure Node)** | 0 (all samples in one class)                                        | 0 (all samples in one class)                                           |\n",
    "| **Worst Value**            | 0.5 (50-50 split, binary case)                                      | 1 (50-50 split, binary case)                                           |\n",
    "| **Computation**            | Faster (no logarithms involved)                                     | Slower (logarithmic calculations involved)                             |\n",
    "| **Used in**                | CART algorithm (`scikit-learn` default)                             | ID3, C4.5 algorithms                                                   |\n",
    "| **Split Selection**        | Chooses split with **lowest Gini**                                  | Chooses split with **highest Information Gain**                        |\n",
    "| **Sensitivity**            | Less sensitive to class imbalance                                   | More sensitive to class imbalance                                      |\n",
    "| **Intuition**              | Measures how often a randomly chosen element would be misclassified | Measures expected amount of information needed to classify an instance |\n"
   ]
  },
  {
   "cell_type": "markdown",
   "id": "59e9322d-3496-4a5a-b03d-764e2dfed3ba",
   "metadata": {},
   "source": [
    "### 7.What is the mathematical explanation behind Decision Trees\n",
    "\n",
    " #### mathematical explanation behind Decision Trees\n",
    "\n",
    "\n",
    " | **Step** | **Component**                     | **Formula / Description**                                                                          |      |                 |   |                                         |      |    |   |                     |\n",
    "| -------- | --------------------------------- | -------------------------------------------------------------------------------------------------- | ---- | --------------- | - | --------------------------------------- | ---- | -- | - | ------------------- |\n",
    "| 1        | **Dataset**                       | Let $S$ be the dataset with features $X = \\{x_1, x_2, ..., x_n\\}$ and labels $y \\in \\{1, ..., C\\}$ |      |                 |   |                                         |      |    |   |                     |\n",
    "| 2        | **Gini Impurity**                 | ( \\text{Gini}(S) = 1 - \\sum\\_{i=1}^{C} \\left( \\frac{                                               | S\\_i | }{              | S | } \\right)^2 )                           |      |    |   |                     |\n",
    "|          | **Entropy**                       | ( \\text{Entropy}(S) = -\\sum\\_{i=1}^{C} \\left( \\frac{                                               | S\\_i | }{              | S | } \\log\\_2 \\left( \\frac{                 | S\\_i | }{ | S | } \\right) \\right) ) |\n",
    "| 3        | **Split Dataset on Feature $A$**  | Partition $S$ into $\\{S_1, S_2, ..., S_k\\}$ based on values or thresholds of feature $A$           |      |                 |   |                                         |      |    |   |                     |\n",
    "| 4        | **Weighted Impurity After Split** | ( \\text{Impurity}*{split}(A) = \\sum*{j=1}^{k} \\left( \\frac{                                        | S\\_j | }{              | S | } \\cdot \\text{Impurity}(S\\_j) \\right) ) |      |    |   |                     |\n",
    "| 5        | **Information Gain** (Entropy)    | $\\text{IG}(A) = \\text{Entropy}(S) - \\text{Entropy}_{split}(A)$                                     |      |                 |   |                                         |      |    |   |                     |\n",
    "| 6        | **Best Feature Selection**        | $A^* = \\arg\\max_A \\text{IG}(A)$ (Entropy) or $\\arg\\min_A \\text{Gini}_{split}(A)$ (Gini)            |      |                 |   |                                         |      |    |   |                     |\n",
    "| 7        | **Stopping Conditions**           | - Node is pure<br>- Max depth reached<br>- Min samples reached                                     |      |                 |   |                                         |      |    |   |                     |\n",
    "| 8        | **Leaf Node Prediction**          | - **Classification**: majority class in node<br>- **Regression**: mean of target values            |      |                 |   |                                         |      |    |   |                     |\n",
    "| 9        | **Regression Tree Impurity**      | ( \\text{MSE}(S) = \\frac{1}{                                                                        | S    | } \\sum\\_{i=1}^{ | S | } (y\\_i - \\bar{y})^2 )                  |      |    |   |                     |\n"
   ]
  },
  {
   "cell_type": "markdown",
   "id": "01b47c91-69ec-4b44-a903-4915c4321179",
   "metadata": {},
   "source": [
    "### 8.What is Pre-Pruning in Decision Trees\t\n",
    "Pre-Pruning (also known as early stopping) is a technique used to prevent overfitting by stopping the growth of the tree early, before it becomes too complex.\n",
    "\n",
    "Instead of letting the tree grow fully and then trimming it (post-pruning), we apply constraints during the tree-building process.\n",
    "####  Key Idea:\n",
    "Stop splitting a node if further splits do not significantly improve performance or meet specific criteria.\n",
    "\n",
    "\n",
    "| **Parameter**           | **Description**                                                          |\n",
    "| ----------------------- | ------------------------------------------------------------------------ |\n",
    "| `max_depth`             | Stop if tree reaches a certain depth                                     |\n",
    "| `min_samples_split`     | Minimum number of samples required to split a node                       |\n",
    "| `min_samples_leaf`      | Minimum number of samples required in a leaf node                        |\n",
    "| `max_leaf_nodes`        | Maximum number of leaf nodes allowed                                     |\n",
    "| `min_impurity_decrease` | Stop if the decrease in impurity (Gini/Entropy) is less than a threshold |\n",
    "| `max_features`          | Limit the number of features considered when looking for the best split  |\n",
    "\n",
    "\n"
   ]
  },
  {
   "cell_type": "markdown",
   "id": "4280d194-9b34-4be3-aa57-444fff569ebc",
   "metadata": {},
   "source": [
    "### 9.What is Post-Pruning in Decision Trees\t\n",
    "Post-Pruning (also called cost-complexity pruning) is a technique applied after a decision tree is fully grown. It involves removing branches that have little or no contribution to model performance, especially to prevent overfitting.\n",
    "\n",
    "#### Why Use Post-Pruning?\n",
    "Fully grown trees may perfectly fit training data but generalize poorly.\n",
    "\n",
    "Post-pruning trims the tree back to reduce complexity and improve performance on unseen data.\n",
    "\n",
    "\n",
    "working:-\n",
    "\n",
    "| **Step** | **Action**                                                                                                           |\n",
    "| -------- | -------------------------------------------------------------------------------------------------------------------- |\n",
    "| 1        | Train the tree to full depth (i.e., grow until all leaves are pure or constraints are hit).                          |\n",
    "| 2        | Evaluate subtrees and calculate their impact (e.g., on validation accuracy or impurity).                             |\n",
    "| 3        | **Prune** branches (replace subtree with a leaf) if pruning improves performance or doesn’t significantly worsen it. |\n",
    "| 4        | Continue recursively until no further pruning is beneficial.                                                         |\n"
   ]
  },
  {
   "cell_type": "markdown",
   "id": "1ae10213-0be1-4f0c-84f0-1d820f1d981e",
   "metadata": {},
   "source": [
    "### 10.What is the difference between Pre-Pruning and Post-Pruning\t\n",
    "\n",
    "| **Aspect**               | **Pre-Pruning (Early Stopping)**                             | **Post-Pruning (Cost-Complexity Pruning)**                   |\n",
    "| ------------------------ | ------------------------------------------------------------ | ------------------------------------------------------------ |\n",
    "| **When Applied**         | **During** tree construction                                 | **After** full tree is built                                 |\n",
    "| **Goal**                 | Stop tree from growing too large                             | Simplify an already fully grown tree                         |\n",
    "| **Method**               | Prevent splits that don’t meet a threshold (e.g., max depth) | Remove subtrees that don't improve generalization            |\n",
    "| **Common Parameters**    | `max_depth`, `min_samples_split`, `min_samples_leaf`         | `ccp_alpha` (Cost-Complexity Pruning in scikit-learn)        |\n",
    "| **Data Required**        | Only training data                                           | Often needs a **validation set**                             |\n",
    "| **Risk**                 | **Underfitting** (too shallow tree)                          | **Computationally expensive**, risk of over-pruning          |\n",
    "| **Control**              | Controlled manually using hyperparameters                    | Controlled based on error-complexity tradeoff                |\n",
    "| **Flexibility**          | Less flexible (once stopped, can’t grow further)             | More flexible (entire tree is grown, then trimmed as needed) |\n",
    "| **Overfitting Handling** | Prevents overfitting **before it starts**                    | **Removes** parts that cause overfitting                     |\n"
   ]
  },
  {
   "cell_type": "markdown",
   "id": "c3f61665-e31b-44ec-840c-4be8a8627387",
   "metadata": {},
   "source": [
    "### 11. What is a Decision Tree Regressor\t\n",
    "A Decision Tree Regressor is a type of supervised machine learning algorithm used to predict continuous numerical values, unlike classification trees that predict discrete class labels."
   ]
  },
  {
   "cell_type": "markdown",
   "id": "ef03a275-4fca-4ffc-9263-334bd33031d7",
   "metadata": {},
   "source": [
    "### 12.What are the advantages and disadvantages of Decision Trees\t\n",
    "| **Aspect**                   | **Advantages**                                                        | **Disadvantages**                                                |\n",
    "| ---------------------------- | --------------------------------------------------------------------- | ---------------------------------------------------------------- |\n",
    "| **Interpretability**         | Easy to understand and interpret (can be visualized like a flowchart) | Complex trees can become hard to interpret                       |\n",
    "| **Data Preprocessing**       | No need for feature scaling or normalization                          | Sensitive to small changes in data (high variance)               |\n",
    "| **Handling Data Types**      | Can handle both numerical and categorical data                        | Struggles with highly imbalanced datasets or irrelevant features |\n",
    "| **Non-linear Relationships** | Captures non-linear patterns in data                                  | Greedy algorithm → may not find globally optimal tree            |\n",
    "| **Speed**                    | Fast to train and make predictions                                    | Can be inefficient if the dataset is very large and deep         |\n",
    "| **Missing Values**           | Some implementations can handle missing values                        | Not as robust as ensemble methods                                |\n",
    "| **Overfitting**              | With pruning or constraints, overfitting can be controlled            | Prone to overfitting without pruning                             |\n",
    "| **Feature Importance**       | Pr                                                                    |                                                                  |\n"
   ]
  },
  {
   "cell_type": "markdown",
   "id": "877be983-8b85-4738-8514-b448697efb75",
   "metadata": {},
   "source": [
    "### 13.How does a Decision Tree handle missing values\n",
    "Handling missing values is a critical step in building robust decision tree models. While decision trees can deal with missing data in various ways, the strategy depends on the algorithm and implementation\n",
    "\n",
    "Approaches for Handling Missing Values\n",
    "\n",
    "| **Method**                            | **Description**                                                                             |\n",
    "| ------------------------------------- | ------------------------------------------------------------------------------------------- |\n",
    "| **Ignore or Drop Rows/Features**      | Drop samples or features with missing values (manual preprocessing step).                   |\n",
    "| **Imputation (Preprocessing)**        | Fill missing values using mean, median, mode, or more advanced techniques before training.  |\n",
    "| **Surrogate Splits** (CART, C4.5)     | Use an **alternate feature** to split a sample when the primary feature's value is missing. |\n",
    "| **Default Direction** (e.g., XGBoost) | Learn a **default direction** (left/right) during training to route missing values.         |\n",
    "| **Weighted Splitting** (C4.5)         | Route samples to **both child nodes** and weight their contribution.                        |\n"
   ]
  },
  {
   "cell_type": "markdown",
   "id": "e6ca7582-c264-484f-b5fd-12d967fba359",
   "metadata": {},
   "source": [
    "### 14.How does a Decision Tree handle categorical features\t\n",
    "\n",
    "| **Method**           | **Description**                                                                                    |\n",
    "| -------------------- | -------------------------------------------------------------------------------------------------- |\n",
    "| **Label Encoding**   | Assigns a unique integer to each category (e.g., Red=0, Green=1, Blue=2).                          |\n",
    "| **One-Hot Encoding** | Converts categories into binary columns (e.g., Color\\_Red, Color\\_Green, etc.).                    |\n",
    "| **Direct Handling**  | Some algorithms like `C4.5`, `LightGBM` can split directly on categorical values without encoding. |\n",
    "| **Multiway Splits**  | Splits node based on each category separately (common in categorical splits).                      |\n",
    "| **Binary Splits**    | Splits categories into 2 groups based on best impurity reduction (used in CART).                   |\n"
   ]
  },
  {
   "cell_type": "markdown",
   "id": "99dc91b5-bba2-401a-99f9-2e973cdd0823",
   "metadata": {},
   "source": [
    "#### 15.What are some real-world applications of Decision Trees?\n",
    "| **Domain**                 | **Application**                              | **Details**                                                                 |\n",
    "| -------------------------- | -------------------------------------------- | --------------------------------------------------------------------------- |\n",
    "|  **Education**           | Student performance prediction               | Predicting dropout risk, exam outcomes, or course recommendations           |\n",
    "|  **Finance**             | Credit scoring, loan approval                | Assessing risk based on income, credit history, debts, etc.                 |\n",
    "| **Healthcare**          | Disease diagnosis, treatment planning        | Classifying symptoms to predict diseases (e.g., diabetes, heart disease)    |\n",
    "|  **Retail / E-commerce** | Customer segmentation, churn prediction      | Predicting buyer behavior or loyalty based on purchase history              |\n",
    "|  **Telecommunications**  | Churn prediction                             | Identifying customers likely to leave a network or service                  |\n",
    "|  **Manufacturing**       | Predictive maintenance, defect detection     | Detecting faulty machines or product failures before they occur             |\n",
    "|  **Law**                 | Crime prediction, sentencing assistance      | Analyzing previous criminal records and case data to assist legal decisions |\n",
    "|  **Pharmaceuticals**     | Drug response prediction                     | Classifying patients based on likelihood of responding to treatments        |\n",
    "|  **Environment**        | Weather prediction, pollution classification | Predicting rain, fog, or pollution levels based on environmental data       |\n",
    "|  **Banking**             | Fraud detection, loan default prediction     | Identifying fraudulent transactions or high-risk loans                      |\n",
    "|  **Aviation**            | Flight delay prediction                      | Using historical and weather data to predict delays                         |\n",
    "|  **Marketing**           | Lead scoring, ad targeting                   | Classifying which customers are more likely to convert or click an ad       |\n"
   ]
  },
  {
   "cell_type": "markdown",
   "id": "61db1488-740e-45bb-8961-38dc744eb1d3",
   "metadata": {},
   "source": [
    "# Practicl question"
   ]
  },
  {
   "cell_type": "code",
   "execution_count": 1,
   "id": "5ac9fe7a-6d67-4d50-89e4-3914f84d02ad",
   "metadata": {},
   "outputs": [
    {
     "name": "stdout",
     "output_type": "stream",
     "text": [
      "Decision Tree Classifier Accuracy on Iris dataset: 100.00%\n"
     ]
    }
   ],
   "source": [
    "## 16. Write a Python program to train a Decision Tree Classifier on the Iris dataset and print the model accuracy\n",
    "from sklearn.datasets import load_iris\n",
    "from sklearn.model_selection import train_test_split\n",
    "from sklearn.tree import DecisionTreeClassifier\n",
    "from sklearn.metrics import accuracy_score\n",
    "\n",
    "# 1. Load the Iris dataset\n",
    "iris = load_iris()\n",
    "X = iris.data         # Features\n",
    "y = iris.target       # Target labels\n",
    "\n",
    "# 2. Split the dataset into training and testing sets (80% train, 20% test)\n",
    "X_train, X_test, y_train, y_test = train_test_split(X, y, test_size=0.2, random_state=42)\n",
    "\n",
    "# 3. Create and train the Decision Tree Classifier\n",
    "clf = DecisionTreeClassifier(random_state=42)\n",
    "clf.fit(X_train, y_train)\n",
    "\n",
    "# 4. Make predictions\n",
    "y_pred = clf.predict(X_test)\n",
    "\n",
    "# 5. Evaluate the model\n",
    "accuracy = accuracy_score(y_test, y_pred)\n",
    "print(\"Decision Tree Classifier Accuracy on Iris dataset: {:.2f}%\".format(accuracy * 100))\n"
   ]
  },
  {
   "cell_type": "markdown",
   "id": "318d33ef-b71c-42e0-97fe-e77f5a60a296",
   "metadata": {},
   "source": [
    "####"
   ]
  },
  {
   "cell_type": "code",
   "execution_count": 2,
   "id": "8488d72c-519b-4db3-a556-daf06505692a",
   "metadata": {},
   "outputs": [
    {
     "name": "stdout",
     "output_type": "stream",
     "text": [
      "Feature Importances:\n",
      "sepal length (cm): 0.0000\n",
      "sepal width (cm): 0.0167\n",
      "petal length (cm): 0.9061\n",
      "petal width (cm): 0.0772\n"
     ]
    }
   ],
   "source": [
    "# 17.Write a Python program to train a Decision Tree Classifier using Gini Impurity as the criterion and print the feature importances\n",
    "from sklearn.datasets import load_iris\n",
    "from sklearn.model_selection import train_test_split\n",
    "from sklearn.tree import DecisionTreeClassifier\n",
    "\n",
    "# 1. Load the Iris dataset\n",
    "iris = load_iris()\n",
    "X = iris.data\n",
    "y = iris.target\n",
    "feature_names = iris.feature_names\n",
    "\n",
    "# 2. Split the data into train and test sets\n",
    "X_train, X_test, y_train, y_test = train_test_split(X, y, test_size=0.2, random_state=42)\n",
    "\n",
    "# 3. Train the Decision Tree Classifier using Gini Impurity\n",
    "clf = DecisionTreeClassifier(criterion='gini', random_state=42)\n",
    "clf.fit(X_train, y_train)\n",
    "\n",
    "# 4. Print feature importances\n",
    "print(\"Feature Importances:\")\n",
    "for feature, importance in zip(feature_names, clf.feature_importances_):\n",
    "    print(f\"{feature}: {importance:.4f}\")\n"
   ]
  },
  {
   "cell_type": "code",
   "execution_count": 3,
   "id": "974a1bf5-c539-4e61-9d93-a59802c83be7",
   "metadata": {},
   "outputs": [
    {
     "name": "stdout",
     "output_type": "stream",
     "text": [
      "Decision Tree Classifier Accuracy (Entropy): 100.00%\n"
     ]
    }
   ],
   "source": [
    "# 18.Write a Python program to train a Decision Tree Classifier using Entropy as the splitting criterion and print the model accuracy*\n",
    "from sklearn.datasets import load_iris\n",
    "from sklearn.model_selection import train_test_split\n",
    "from sklearn.tree import DecisionTreeClassifier\n",
    "from sklearn.metrics import accuracy_score\n",
    "\n",
    "# 1. Load the Iris dataset\n",
    "iris = load_iris()\n",
    "X = iris.data\n",
    "y = iris.target\n",
    "\n",
    "# 2. Split the dataset into training and testing sets (80% train, 20% test)\n",
    "X_train, X_test, y_train, y_test = train_test_split(X, y, test_size=0.2, random_state=42)\n",
    "\n",
    "# 3. Create and train the Decision Tree Classifier using Entropy\n",
    "clf = DecisionTreeClassifier(criterion='entropy', random_state=42)\n",
    "clf.fit(X_train, y_train)\n",
    "\n",
    "# 4. Make predictions\n",
    "y_pred = clf.predict(X_test)\n",
    "\n",
    "# 5. Evaluate the model\n",
    "accuracy = accuracy_score(y_test, y_pred)\n",
    "print(\"Decision Tree Classifier Accuracy (Entropy): {:.2f}%\".format(accuracy * 100))\n"
   ]
  },
  {
   "cell_type": "code",
   "execution_count": 4,
   "id": "1cf8ebb6-f328-4fb2-97cf-4da00d6ebeed",
   "metadata": {},
   "outputs": [
    {
     "name": "stderr",
     "output_type": "stream",
     "text": [
      "C:\\Python312\\Lib\\site-packages\\sklearn\\datasets\\_base.py:1472: UserWarning: Retry downloading from url: https://ndownloader.figshare.com/files/5976036\n",
      "  warnings.warn(f\"Retry downloading from url: {remote.url}\")\n"
     ]
    },
    {
     "name": "stdout",
     "output_type": "stream",
     "text": [
      "Decision Tree Regressor Mean Squared Error (MSE): 0.4952\n"
     ]
    }
   ],
   "source": [
    "# 19.Write a Python program to train a Decision Tree Regressor on a housing dataset and evaluate using Mean Squared Error (MSE)\n",
    "from sklearn.datasets import fetch_california_housing\n",
    "from sklearn.model_selection import train_test_split\n",
    "from sklearn.tree import DecisionTreeRegressor\n",
    "from sklearn.metrics import mean_squared_error\n",
    "\n",
    "# 1. Load the California housing dataset\n",
    "data = fetch_california_housing()\n",
    "X = data.data\n",
    "y = data.target\n",
    "\n",
    "# 2. Split the data into training and testing sets (80% train, 20% test)\n",
    "X_train, X_test, y_train, y_test = train_test_split(X, y, test_size=0.2, random_state=42)\n",
    "\n",
    "# 3. Create and train the Decision Tree Regressor\n",
    "regressor = DecisionTreeRegressor(random_state=42)\n",
    "regressor.fit(X_train, y_train)\n",
    "\n",
    "# 4. Make predictions\n",
    "y_pred = regressor.predict(X_test)\n",
    "\n",
    "# 5. Evaluate using Mean Squared Error (MSE)\n",
    "mse = mean_squared_error(y_test, y_pred)\n",
    "print(\"Decision Tree Regressor Mean Squared Error (MSE): {:.4f}\".format(mse))\n"
   ]
  },
  {
   "cell_type": "code",
   "execution_count": null,
   "id": "c1eda76d-cbfb-4b2e-90cb-a651a7710fd3",
   "metadata": {},
   "outputs": [],
   "source": [
    "## 20.Write a Python program to train a Decision Tree Classifier and visualize the tree using graphviz\n",
    "from sklearn.datasets import load_iris\n",
    "from sklearn.tree import DecisionTreeClassifier, export_graphviz\n",
    "from sklearn.model_selection import train_test_split\n",
    "import graphviz\n",
    "\n",
    "# 1. Load the Iris dataset\n",
    "iris = load_iris()\n",
    "X = iris.data\n",
    "y = iris.target\n",
    "feature_names = iris.feature_names\n",
    "class_names = iris.target_names\n",
    "\n",
    "# 2. Split the data into training and testing sets\n",
    "X_train, X_test, y_train, y_test = train_test_split(X, y, test_size=0.2, random_state=42)\n",
    "\n",
    "# 3. Train the Decision Tree Classifier\n",
    "clf = DecisionTreeClassifier(criterion='gini', max_depth=3, random_state=42)\n",
    "clf.fit(X_train, y_train)\n",
    "\n",
    "# 4. Export the tree to Graphviz format\n",
    "dot_data = export_graphviz(\n",
    "    clf,\n",
    "    out_file=None,\n",
    "    feature_names=feature_names,\n",
    "    class_names=class_names,\n",
    "    filled=True,\n",
    "    rounded=True,\n",
    "    special_characters=True\n",
    ")\n",
    "\n",
    "# 5. Render the tree using Graphviz\n",
    "graph = graphviz.Source(dot_data)\n",
    "graph.render(\"iris_tree\", format='png', cleanup=True)  # Saves as iris_tree.png\n",
    "graph.view()  # Opens the image\n"
   ]
  },
  {
   "cell_type": "code",
   "execution_count": 17,
   "id": "6e414611-f784-489c-a9ea-59a4784fd64b",
   "metadata": {},
   "outputs": [
    {
     "name": "stdout",
     "output_type": "stream",
     "text": [
      "Decision Tree (max_depth=3) Accuracy: 100.00%\n",
      "Decision Tree (fully grown) Accuracy: 100.00%\n"
     ]
    }
   ],
   "source": [
    "# 21.Write a Python program to train a Decision Tree Classifier with a maximum depth of 3 and compare its accuracy with a fully grown tree\n",
    "\n",
    "from sklearn.datasets import load_iris\n",
    "from sklearn.model_selection import train_test_split\n",
    "from sklearn.tree import DecisionTreeClassifier\n",
    "from sklearn.metrics import accuracy_score\n",
    "\n",
    "# 1. Load the Iris dataset\n",
    "iris = load_iris()\n",
    "X = iris.data\n",
    "y = iris.target\n",
    "\n",
    "# 2. Split the dataset into training and testing sets\n",
    "X_train, X_test, y_train, y_test = train_test_split(\n",
    "    X, y, test_size=0.2, random_state=42)\n",
    "\n",
    "# 3. Train Decision Tree with max_depth=3\n",
    "shallow_tree = DecisionTreeClassifier(max_depth=3, random_state=42)\n",
    "shallow_tree.fit(X_train, y_train)\n",
    "shallow_preds = shallow_tree.predict(X_test)\n",
    "shallow_accuracy = accuracy_score(y_test, shallow_preds)\n",
    "\n",
    "# 4. Train fully grown Decision Tree (no depth limit)\n",
    "full_tree = DecisionTreeClassifier(random_state=42)\n",
    "full_tree.fit(X_train, y_train)\n",
    "full_preds = full_tree.predict(X_test)\n",
    "full_accuracy = accuracy_score(y_test, full_preds)\n",
    "\n",
    "# 5. Print the accuracies\n",
    "print(\"Decision Tree (max_depth=3) Accuracy: {:.2f}%\".format(shallow_accuracy * 100))\n",
    "print(\"Decision Tree (fully grown) Accuracy: {:.2f}%\".format(full_accuracy * 100))\n"
   ]
  },
  {
   "cell_type": "code",
   "execution_count": 18,
   "id": "a30bb1c9-6d3e-4f2f-8072-8b85f42cbeae",
   "metadata": {},
   "outputs": [
    {
     "name": "stdout",
     "output_type": "stream",
     "text": [
      "Decision Tree (min_samples_split=5) Accuracy: 100.00%\n",
      "Decision Tree (default) Accuracy: 100.00%\n"
     ]
    }
   ],
   "source": [
    "# 22.Write a Python program to train a Decision Tree Classifier using min_samples_split=5 and compare its accuracy with a default tree\n",
    "from sklearn.datasets import load_iris\n",
    "from sklearn.model_selection import train_test_split\n",
    "from sklearn.tree import DecisionTreeClassifier\n",
    "from sklearn.metrics import accuracy_score\n",
    "\n",
    "# 1. Load the Iris dataset\n",
    "iris = load_iris()\n",
    "X = iris.data\n",
    "y = iris.target\n",
    "\n",
    "# 2. Split the dataset into training and testing sets\n",
    "X_train, X_test, y_train, y_test = train_test_split(\n",
    "    X, y, test_size=0.2, random_state=42)\n",
    "\n",
    "# 3. Train Decision Tree with min_samples_split=5\n",
    "custom_tree = DecisionTreeClassifier(min_samples_split=5, random_state=42)\n",
    "custom_tree.fit(X_train, y_train)\n",
    "custom_preds = custom_tree.predict(X_test)\n",
    "custom_accuracy = accuracy_score(y_test, custom_preds)\n",
    "\n",
    "# 4. Train Decision Tree with default parameters\n",
    "default_tree = DecisionTreeClassifier(random_state=42)\n",
    "default_tree.fit(X_train, y_train)\n",
    "default_preds = default_tree.predict(X_test)\n",
    "default_accuracy = accuracy_score(y_test, default_preds)\n",
    "\n",
    "# 5. Print the accuracies\n",
    "print(\"Decision Tree (min_samples_split=5) Accuracy: {:.2f}%\".format(custom_accuracy * 100))\n",
    "print(\"Decision Tree (default) Accuracy: {:.2f}%\".format(default_accuracy * 100))\n"
   ]
  },
  {
   "cell_type": "code",
   "execution_count": 8,
   "id": "58f39909-c69e-4db3-9cac-d6f20d878473",
   "metadata": {},
   "outputs": [
    {
     "name": "stdout",
     "output_type": "stream",
     "text": [
      "Accuracy without Feature Scaling: 100.00%\n",
      "Accuracy with Feature Scaling   : 100.00%\n"
     ]
    }
   ],
   "source": [
    "# 23.Write a Python program to apply feature scaling before training a Decision Tree Classifier and compare its accuracy with unscaled data\n",
    "from sklearn.datasets import load_iris\n",
    "from sklearn.model_selection import train_test_split\n",
    "from sklearn.preprocessing import StandardScaler\n",
    "from sklearn.tree import DecisionTreeClassifier\n",
    "from sklearn.metrics import accuracy_score\n",
    "\n",
    "# 1. Load the Iris dataset\n",
    "iris = load_iris()\n",
    "X = iris.data\n",
    "y = iris.target\n",
    "\n",
    "# 2. Split into training and testing sets\n",
    "X_train, X_test, y_train, y_test = train_test_split(\n",
    "    X, y, test_size=0.2, random_state=42)\n",
    "\n",
    "# 3. Train Decision Tree on unscaled data\n",
    "clf_unscaled = DecisionTreeClassifier(random_state=42)\n",
    "clf_unscaled.fit(X_train, y_train)\n",
    "y_pred_unscaled = clf_unscaled.predict(X_test)\n",
    "acc_unscaled = accuracy_score(y_test, y_pred_unscaled)\n",
    "\n",
    "# 4. Apply feature scaling (Standardization)\n",
    "scaler = StandardScaler()\n",
    "X_train_scaled = scaler.fit_transform(X_train)\n",
    "X_test_scaled = scaler.transform(X_test)\n",
    "\n",
    "# 5. Train Decision Tree on scaled data\n",
    "clf_scaled = DecisionTreeClassifier(random_state=42)\n",
    "clf_scaled.fit(X_train_scaled, y_train)\n",
    "y_pred_scaled = clf_scaled.predict(X_test_scaled)\n",
    "acc_scaled = accuracy_score(y_test, y_pred_scaled)\n",
    "\n",
    "# 6. Print comparison\n",
    "print(\"Accuracy without Feature Scaling: {:.2f}%\".format(acc_unscaled * 100))\n",
    "print(\"Accuracy with Feature Scaling   : {:.2f}%\".format(acc_scaled * 100))\n"
   ]
  },
  {
   "cell_type": "code",
   "execution_count": 9,
   "id": "5961edc3-56a8-4ba1-a3f4-025822f802c6",
   "metadata": {},
   "outputs": [
    {
     "name": "stdout",
     "output_type": "stream",
     "text": [
      "Decision Tree Classifier with One-vs-Rest Accuracy: 100.00%\n"
     ]
    }
   ],
   "source": [
    "# 24.Write a Python program to train a Decision Tree Classifier using One-vs-Rest (OvR) strategy for multiclass classification\n",
    "from sklearn.datasets import load_iris\n",
    "from sklearn.model_selection import train_test_split\n",
    "from sklearn.tree import DecisionTreeClassifier\n",
    "from sklearn.multiclass import OneVsRestClassifier\n",
    "from sklearn.metrics import accuracy_score\n",
    "\n",
    "# 1. Load the Iris dataset\n",
    "iris = load_iris()\n",
    "X = iris.data\n",
    "y = iris.target\n",
    "\n",
    "# 2. Split the data into train and test sets\n",
    "X_train, X_test, y_train, y_test = train_test_split(\n",
    "    X, y, test_size=0.2, random_state=42)\n",
    "\n",
    "# 3. Wrap Decision Tree with One-vs-Rest strategy\n",
    "ovr_classifier = OneVsRestClassifier(DecisionTreeClassifier(random_state=42))\n",
    "ovr_classifier.fit(X_train, y_train)\n",
    "\n",
    "# 4. Make predictions\n",
    "y_pred = ovr_classifier.predict(X_test)\n",
    "\n",
    "# 5. Evaluate accuracy\n",
    "accuracy = accuracy_score(y_test, y_pred)\n",
    "print(\"Decision Tree Classifier with One-vs-Rest Accuracy: {:.2f}%\".format(accuracy * 100))\n"
   ]
  },
  {
   "cell_type": "code",
   "execution_count": 10,
   "id": "b59e56de-9ad2-4b83-b7fa-0a4eac519253",
   "metadata": {},
   "outputs": [
    {
     "name": "stdout",
     "output_type": "stream",
     "text": [
      "Feature Importance Scores:\n",
      "sepal length (cm): 0.0000\n",
      "sepal width (cm): 0.0167\n",
      "petal length (cm): 0.9061\n",
      "petal width (cm): 0.0772\n"
     ]
    }
   ],
   "source": [
    "# 25. Write a Python program to train a Decision Tree Classifier and display the feature importance scores\n",
    "from sklearn.datasets import load_iris\n",
    "from sklearn.model_selection import train_test_split\n",
    "from sklearn.tree import DecisionTreeClassifier\n",
    "\n",
    "# 1. Load the Iris dataset\n",
    "iris = load_iris()\n",
    "X = iris.data\n",
    "y = iris.target\n",
    "feature_names = iris.feature_names\n",
    "\n",
    "# 2. Split the dataset into training and testing sets\n",
    "X_train, X_test, y_train, y_test = train_test_split(\n",
    "    X, y, test_size=0.2, random_state=42)\n",
    "\n",
    "# 3. Train the Decision Tree Classifier\n",
    "clf = DecisionTreeClassifier(random_state=42)\n",
    "clf.fit(X_train, y_train)\n",
    "\n",
    "# 4. Display feature importance scores\n",
    "print(\"Feature Importance Scores:\")\n",
    "for feature, importance in zip(feature_names, clf.feature_importances_):\n",
    "    print(f\"{feature}: {importance:.4f}\")\n"
   ]
  },
  {
   "cell_type": "code",
   "execution_count": 11,
   "id": "c6077778-f7f7-4364-8756-14fe4a029d06",
   "metadata": {},
   "outputs": [
    {
     "name": "stdout",
     "output_type": "stream",
     "text": [
      "Decision Tree Regressor (max_depth=5) MSE: 0.5245\n",
      "Decision Tree Regressor (unrestricted) MSE: 0.4952\n"
     ]
    }
   ],
   "source": [
    "# 26.Write a Python program to train a Decision Tree Regressor with max_depth=5 and compare its performance with an unrestricted tree\n",
    "from sklearn.datasets import fetch_california_housing\n",
    "from sklearn.model_selection import train_test_split\n",
    "from sklearn.tree import DecisionTreeRegressor\n",
    "from sklearn.metrics import mean_squared_error\n",
    "\n",
    "# 1. Load the California housing dataset\n",
    "data = fetch_california_housing()\n",
    "X = data.data\n",
    "y = data.target\n",
    "\n",
    "# 2. Split the data into training and testing sets\n",
    "X_train, X_test, y_train, y_test = train_test_split(\n",
    "    X, y, test_size=0.2, random_state=42)\n",
    "\n",
    "# 3. Decision Tree Regressor with max_depth=5\n",
    "reg_limited = DecisionTreeRegressor(max_depth=5, random_state=42)\n",
    "reg_limited.fit(X_train, y_train)\n",
    "y_pred_limited = reg_limited.predict(X_test)\n",
    "mse_limited = mean_squared_error(y_test, y_pred_limited)\n",
    "\n",
    "# 4. Fully grown Decision Tree Regressor (no max_depth)\n",
    "reg_full = DecisionTreeRegressor(random_state=42)\n",
    "reg_full.fit(X_train, y_train)\n",
    "y_pred_full = reg_full.predict(X_test)\n",
    "mse_full = mean_squared_error(y_test, y_pred_full)\n",
    "\n",
    "# 5. Print the MSE comparison\n",
    "print(\"Decision Tree Regressor (max_depth=5) MSE: {:.4f}\".format(mse_limited))\n",
    "print(\"Decision Tree Regressor (unrestricted) MSE: {:.4f}\".format(mse_full))\n"
   ]
  },
  {
   "cell_type": "code",
   "execution_count": 12,
   "id": "b9de5b3c-4af7-47c7-9f5d-171e4c98e8b6",
   "metadata": {},
   "outputs": [
    {
     "data": {
      "image/png": "[encoded data removed]",
      "text/plain": [
       "<Figure size 1000x600 with 1 Axes>"
      ]
     },
     "metadata": {},
     "output_type": "display_data"
    }
   ],
   "source": [
    "# 27.Write a Python program to train a Decision Tree Classifier, apply Cost Complexity Pruning (CCP), and visualize its effect on accuracy\n",
    "import matplotlib.pyplot as plt\n",
    "from sklearn.datasets import load_iris\n",
    "from sklearn.tree import DecisionTreeClassifier\n",
    "from sklearn.model_selection import train_test_split\n",
    "from sklearn.metrics import accuracy_score\n",
    "\n",
    "# 1. Load the Iris dataset\n",
    "iris = load_iris()\n",
    "X = iris.data\n",
    "y = iris.target\n",
    "\n",
    "# 2. Split the data into training and testing sets\n",
    "X_train, X_test, y_train, y_test = train_test_split(\n",
    "    X, y, test_size=0.2, random_state=42)\n",
    "\n",
    "# 3. Train an initial full Decision Tree to get CCP alphas\n",
    "clf = DecisionTreeClassifier(random_state=42)\n",
    "path = clf.cost_complexity_pruning_path(X_train, y_train)\n",
    "ccp_alphas = path.ccp_alphas[:-1]  # Exclude the last (trivial tree)\n",
    "\n",
    "# 4. Train a tree for each alpha and store classifiers\n",
    "clfs = []\n",
    "for ccp_alpha in ccp_alphas:\n",
    "    clf = DecisionTreeClassifier(random_state=42, ccp_alpha=ccp_alpha)\n",
    "    clf.fit(X_train, y_train)\n",
    "    clfs.append(clf)\n",
    "\n",
    "# 5. Evaluate accuracy for each tree\n",
    "train_acc = [accuracy_score(y_train, clf.predict(X_train)) for clf in clfs]\n",
    "test_acc = [accuracy_score(y_test, clf.predict(X_test)) for clf in clfs]\n",
    "\n",
    "# 6. Plot accuracy vs CCP alpha\n",
    "plt.figure(figsize=(10, 6))\n",
    "plt.plot(ccp_alphas, train_acc, marker='o', label='Train Accuracy', color='blue')\n",
    "plt.plot(ccp_alphas, test_acc, marker='o', label='Test Accuracy', color='green')\n",
    "plt.xlabel('ccp_alpha (Pruning Parameter)')\n",
    "plt.ylabel('Accuracy')\n",
    "plt.title('Effect of Cost Complexity Pruning on Decision Tree Accuracy')\n",
    "plt.legend()\n",
    "plt.grid(True)\n",
    "plt.show()\n"
   ]
  },
  {
   "cell_type": "code",
   "execution_count": 13,
   "id": "66befaf3-7ac5-4dab-812b-80254b582441",
   "metadata": {},
   "outputs": [
    {
     "name": "stdout",
     "output_type": "stream",
     "text": [
      "Classification Report:\n",
      "              precision    recall  f1-score   support\n",
      "\n",
      "      setosa       1.00      1.00      1.00        10\n",
      "  versicolor       1.00      1.00      1.00         9\n",
      "   virginica       1.00      1.00      1.00        11\n",
      "\n",
      "    accuracy                           1.00        30\n",
      "   macro avg       1.00      1.00      1.00        30\n",
      "weighted avg       1.00      1.00      1.00        30\n",
      "\n"
     ]
    }
   ],
   "source": [
    "# 28.Write a Python program to train a Decision Tree Classifier and evaluate its performance using Precision, Recall, and F1-Score\n",
    "from sklearn.datasets import load_iris\n",
    "from sklearn.model_selection import train_test_split\n",
    "from sklearn.tree import DecisionTreeClassifier\n",
    "from sklearn.metrics import classification_report\n",
    "\n",
    "# 1. Load the Iris dataset\n",
    "iris = load_iris()\n",
    "X = iris.data\n",
    "y = iris.target\n",
    "\n",
    "# 2. Split the dataset into training and testing sets\n",
    "X_train, X_test, y_train, y_test = train_test_split(\n",
    "    X, y, test_size=0.2, random_state=42)\n",
    "\n",
    "# 3. Train the Decision Tree Classifier\n",
    "clf = DecisionTreeClassifier(random_state=42)\n",
    "clf.fit(X_train, y_train)\n",
    "\n",
    "# 4. Make predictions\n",
    "y_pred = clf.predict(X_test)\n",
    "\n",
    "# 5. Evaluate using Precision, Recall, and F1-Score\n",
    "print(\"Classification Report:\")\n",
    "print(classification_report(y_test, y_pred, target_names=iris.target_names))\n",
    "\n"
   ]
  },
  {
   "cell_type": "code",
   "execution_count": 14,
   "id": "eb78982c-4671-40e2-96b2-0b8e70ae3c38",
   "metadata": {},
   "outputs": [
    {
     "data": {
      "image/png": "[encoded data removed]",
      "text/plain": [
       "<Figure size 600x500 with 2 Axes>"
      ]
     },
     "metadata": {},
     "output_type": "display_data"
    }
   ],
   "source": [
    "# 29. Write a Python program to train a Decision Tree Classifier and visualize the confusion matrix using seaborn\n",
    "import seaborn as sns\n",
    "import matplotlib.pyplot as plt\n",
    "from sklearn.datasets import load_iris\n",
    "from sklearn.model_selection import train_test_split\n",
    "from sklearn.tree import DecisionTreeClassifier\n",
    "from sklearn.metrics import confusion_matrix, ConfusionMatrixDisplay\n",
    "\n",
    "# 1. Load the Iris dataset\n",
    "iris = load_iris()\n",
    "X = iris.data\n",
    "y = iris.target\n",
    "class_names = iris.target_names\n",
    "\n",
    "# 2. Split into train and test sets\n",
    "X_train, X_test, y_train, y_test = train_test_split(\n",
    "    X, y, test_size=0.2, random_state=42)\n",
    "\n",
    "# 3. Train the Decision Tree Classifier\n",
    "clf = DecisionTreeClassifier(random_state=42)\n",
    "clf.fit(X_train, y_train)\n",
    "\n",
    "# 4. Make predictions\n",
    "y_pred = clf.predict(X_test)\n",
    "\n",
    "# 5. Compute confusion matrix\n",
    "cm = confusion_matrix(y_test, y_pred)\n",
    "\n",
    "# 6. Visualize using seaborn heatmap\n",
    "plt.figure(figsize=(6, 5))\n",
    "sns.heatmap(cm, annot=True, fmt='d', cmap='Blues',\n",
    "            xticklabels=class_names, yticklabels=class_names)\n",
    "plt.xlabel('Predicted Label')\n",
    "plt.ylabel('True Label')\n",
    "plt.title('Confusion Matrix - Decision Tree Classifier')\n",
    "plt.tight_layout()\n",
    "plt.show()\n"
   ]
  },
  {
   "cell_type": "code",
   "execution_count": 15,
   "id": "10a05f21-828c-4053-89b3-e463e26923d5",
   "metadata": {},
   "outputs": [
    {
     "name": "stdout",
     "output_type": "stream",
     "text": [
      "Best Parameters found by GridSearchCV:\n",
      "{'max_depth': 4, 'min_samples_split': 2}\n",
      "Test Accuracy with Best Parameters: 100.00%\n"
     ]
    }
   ],
   "source": [
    "# 30.Write a Python program to train a Decision Tree Classifier and use GridSearchCV to find the optimal values for max_depth and min_samples_split.\n",
    "from sklearn.datasets import load_iris\n",
    "from sklearn.model_selection import train_test_split, GridSearchCV\n",
    "from sklearn.tree import DecisionTreeClassifier\n",
    "from sklearn.metrics import accuracy_score\n",
    "\n",
    "# 1. Load the Iris dataset\n",
    "iris = load_iris()\n",
    "X = iris.data\n",
    "y = iris.target\n",
    "\n",
    "# 2. Split into train and test sets\n",
    "X_train, X_test, y_train, y_test = train_test_split(\n",
    "    X, y, test_size=0.2, random_state=42)\n",
    "\n",
    "# 3. Set up parameter grid for GridSearchCV\n",
    "param_grid = {\n",
    "    'max_depth': [2, 3, 4, 5, 6, None],\n",
    "    'min_samples_split': [2, 3, 4, 5, 10]\n",
    "}\n",
    "\n",
    "# 4. Initialize Decision Tree Classifier\n",
    "dt = DecisionTreeClassifier(random_state=42)\n",
    "\n",
    "# 5. Use GridSearchCV to find best parameters\n",
    "grid_search = GridSearchCV(estimator=dt, param_grid=param_grid,\n",
    "                           cv=5, scoring='accuracy', n_jobs=-1)\n",
    "grid_search.fit(X_train, y_train)\n",
    "\n",
    "# 6. Best parameters and model evaluation\n",
    "best_model = grid_search.best_estimator_\n",
    "y_pred = best_model.predict(X_test)\n",
    "accuracy = accuracy_score(y_test, y_pred)\n",
    "\n",
    "# 7. Print results\n",
    "print(\"Best Parameters found by GridSearchCV:\")\n",
    "print(grid_search.best_params_)\n",
    "print(\"Test Accuracy with Best Parameters: {:.2f}%\".format(accuracy * 100))\n"
   ]
  }
 ],
 "metadata": {
  "kernelspec": {
   "display_name": "Python 3 (ipykernel)",
   "language": "python",
   "name": "python3"
  },
  "language_info": {
   "codemirror_mode": {
    "name": "ipython",
    "version": 3
   },
   "file_extension": ".py",
   "mimetype": "text/x-python",
   "name": "python",
   "nbconvert_exporter": "python",
   "pygments_lexer": "ipython3",
   "version": "3.12.6"
  }
 },
 "nbformat": 4,
 "nbformat_minor": 5
}
